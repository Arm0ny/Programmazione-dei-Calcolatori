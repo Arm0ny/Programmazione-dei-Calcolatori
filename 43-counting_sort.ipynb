{
 "cells": [
  {
   "cell_type": "markdown",
   "metadata": {},
   "source": [
    "# Esercizio"
   ]
  },
  {
   "cell_type": "markdown",
   "metadata": {},
   "source": [
    "Sia <tt>a</tt> una lista di $n$ stringhe e ogni stringa può valere 'uno', 'due' o 'tre'. Scrivere una funzione Python che ordini <tt>a</tt>."
   ]
  },
  {
   "cell_type": "markdown",
   "metadata": {},
   "source": [
    "### Creazione della lista"
   ]
  },
  {
   "cell_type": "code",
   "execution_count": 2,
   "metadata": {},
   "outputs": [],
   "source": [
    "n = 23\n",
    "vocabolario = ['uno', 'due', 'tre']"
   ]
  },
  {
   "cell_type": "code",
   "execution_count": 4,
   "metadata": {},
   "outputs": [],
   "source": [
    "import random as rn"
   ]
  },
  {
   "cell_type": "code",
   "execution_count": 29,
   "metadata": {},
   "outputs": [],
   "source": [
    "a = []\n",
    "for i in range(n):\n",
    "    a.append(vocabolario[rn.randint(0, len(vocabolario)-1)])"
   ]
  },
  {
   "cell_type": "code",
   "execution_count": 8,
   "metadata": {},
   "outputs": [
    {
     "name": "stdout",
     "output_type": "stream",
     "text": [
      "['uno', 'uno', 'tre', 'due', 'uno', 'due', 'due', 'due', 'due', 'due', 'due', 'tre', 'due', 'due', 'tre', 'due', 'tre', 'tre', 'due', 'tre', 'due', 'uno', 'due']\n"
     ]
    }
   ],
   "source": [
    "print(a)"
   ]
  },
  {
   "cell_type": "markdown",
   "metadata": {},
   "source": [
    "### Soluzione"
   ]
  },
  {
   "cell_type": "code",
   "execution_count": 11,
   "metadata": {},
   "outputs": [
    {
     "name": "stdout",
     "output_type": "stream",
     "text": [
      "['due', 'due', 'due', 'due', 'due', 'due', 'due', 'due', 'due', 'due', 'due', 'due', 'due', 'tre', 'tre', 'tre', 'tre', 'tre', 'tre', 'uno', 'uno', 'uno', 'uno']\n"
     ]
    }
   ],
   "source": [
    "print(sorted(a))"
   ]
  },
  {
   "cell_type": "markdown",
   "metadata": {},
   "source": [
    "Ha costo computazionale $n\\log(n)$, si può fare di meglio?"
   ]
  },
  {
   "cell_type": "code",
   "execution_count": 16,
   "metadata": {},
   "outputs": [],
   "source": [
    "occorrenze = {}\n",
    "for x in a:\n",
    "    if x in occorrenze:\n",
    "        occorrenze[x] += 1\n",
    "    else:\n",
    "        occorrenze[x] = 1"
   ]
  },
  {
   "cell_type": "code",
   "execution_count": 17,
   "metadata": {},
   "outputs": [
    {
     "data": {
      "text/plain": [
       "{'uno': 4, 'tre': 6, 'due': 13}"
      ]
     },
     "execution_count": 17,
     "metadata": {},
     "output_type": "execute_result"
    }
   ],
   "source": [
    "occorrenze"
   ]
  },
  {
   "cell_type": "markdown",
   "metadata": {},
   "source": [
    "Oppure"
   ]
  },
  {
   "cell_type": "code",
   "execution_count": 19,
   "metadata": {},
   "outputs": [],
   "source": [
    "occorrenze = {}\n",
    "for x in a:\n",
    "    try:\n",
    "        occorrenze[x] += 1\n",
    "    except KeyError:\n",
    "        occorrenze[x] = 1"
   ]
  },
  {
   "cell_type": "code",
   "execution_count": 20,
   "metadata": {},
   "outputs": [
    {
     "data": {
      "text/plain": [
       "{'uno': 4, 'tre': 6, 'due': 13}"
      ]
     },
     "execution_count": 20,
     "metadata": {},
     "output_type": "execute_result"
    }
   ],
   "source": [
    "occorrenze"
   ]
  },
  {
   "cell_type": "code",
   "execution_count": 22,
   "metadata": {},
   "outputs": [],
   "source": [
    "b = []\n",
    "for x in ['due', 'tre', 'uno']:\n",
    "    b += [x]*occorrenze[x]"
   ]
  },
  {
   "cell_type": "code",
   "execution_count": 23,
   "metadata": {},
   "outputs": [
    {
     "name": "stdout",
     "output_type": "stream",
     "text": [
      "['due', 'due', 'due', 'due', 'due', 'due', 'due', 'due', 'due', 'due', 'due', 'due', 'due', 'tre', 'tre', 'tre', 'tre', 'tre', 'tre', 'uno', 'uno', 'uno', 'uno']\n"
     ]
    }
   ],
   "source": [
    "print(b)"
   ]
  },
  {
   "cell_type": "code",
   "execution_count": 27,
   "metadata": {},
   "outputs": [],
   "source": [
    "i = 0\n",
    "for x in ['due', 'tre', 'uno']:\n",
    "    for _ in range(occorrenze[x]):\n",
    "        a[i] = x\n",
    "        i += 1"
   ]
  },
  {
   "cell_type": "code",
   "execution_count": 28,
   "metadata": {},
   "outputs": [
    {
     "name": "stdout",
     "output_type": "stream",
     "text": [
      "['due', 'due', 'due', 'due', 'due', 'due', 'due', 'due', 'due', 'due', 'due', 'due', 'due', 'tre', 'tre', 'tre', 'tre', 'tre', 'tre', 'uno', 'uno', 'uno', 'uno']\n"
     ]
    }
   ],
   "source": [
    "print(a)"
   ]
  },
  {
   "cell_type": "markdown",
   "metadata": {},
   "source": [
    "Mettendo tutto insieme"
   ]
  },
  {
   "cell_type": "code",
   "execution_count": 43,
   "metadata": {},
   "outputs": [],
   "source": [
    "a = []\n",
    "for i in range(n):\n",
    "    a.append(vocabolario[rn.randint(0, len(vocabolario)-1)])"
   ]
  },
  {
   "cell_type": "code",
   "execution_count": 44,
   "metadata": {},
   "outputs": [
    {
     "name": "stdout",
     "output_type": "stream",
     "text": [
      "['tre', 'uno', 'tre', 'uno', 'tre', 'uno', 'tre', 'due', 'tre', 'uno', 'tre', 'due', 'tre', 'due', 'due', 'uno', 'due', 'uno', 'uno', 'uno', 'uno', 'uno', 'tre']\n"
     ]
    }
   ],
   "source": [
    "print(a)"
   ]
  },
  {
   "cell_type": "code",
   "execution_count": 48,
   "metadata": {},
   "outputs": [],
   "source": [
    "'''\n",
    "Ordina in tempo lineare nel caso in cui gli elementi in a provengano\n",
    "da un insieme di dimensione costante\n",
    "'''\n",
    "def counting_sort( a ):\n",
    "    occorrenze = {}\n",
    "    for x in a:\n",
    "        try:\n",
    "            occorrenze[x] += 1\n",
    "        except KeyError:\n",
    "            occorrenze[x] = 1\n",
    "    vocabolario = list(occorrenze.keys())\n",
    "    vocabolario.sort() # richiede tempo costante perché vocabolario ha dim costante\n",
    "    i = 0\n",
    "    for x in vocabolario:\n",
    "        for _ in range(occorrenze[x]):\n",
    "            a[i] = x\n",
    "            i += 1"
   ]
  },
  {
   "cell_type": "code",
   "execution_count": 46,
   "metadata": {},
   "outputs": [],
   "source": [
    "counting_sort(a)"
   ]
  },
  {
   "cell_type": "code",
   "execution_count": 47,
   "metadata": {},
   "outputs": [
    {
     "name": "stdout",
     "output_type": "stream",
     "text": [
      "['due', 'due', 'due', 'due', 'due', 'tre', 'tre', 'tre', 'tre', 'tre', 'tre', 'tre', 'tre', 'uno', 'uno', 'uno', 'uno', 'uno', 'uno', 'uno', 'uno', 'uno', 'uno']\n"
     ]
    }
   ],
   "source": [
    "print(a)"
   ]
  },
  {
   "cell_type": "markdown",
   "metadata": {},
   "source": [
    "# Problema"
   ]
  },
  {
   "cell_type": "markdown",
   "metadata": {},
   "source": [
    "Sia <tt>a</tt> una lista di $n$ interi tutti compresi tra $0$ e $n$. Ordinare <tt>a</tt>."
   ]
  },
  {
   "cell_type": "code",
   "execution_count": 77,
   "metadata": {},
   "outputs": [],
   "source": [
    "a = []\n",
    "n = 51\n",
    "for i in range(n):\n",
    "    a.append(rn.randint(0, n))"
   ]
  },
  {
   "cell_type": "code",
   "execution_count": 78,
   "metadata": {},
   "outputs": [
    {
     "name": "stdout",
     "output_type": "stream",
     "text": [
      "[5, 19, 41, 14, 15, 13, 14, 46, 17, 16, 42, 45, 32, 37, 22, 8, 1, 48, 15, 8, 17, 8, 2, 21, 1, 21, 38, 25, 23, 16, 48, 10, 12, 17, 13, 10, 45, 51, 37, 30, 18, 42, 27, 45, 9, 39, 37, 8, 34, 38, 11]\n"
     ]
    }
   ],
   "source": [
    "print(a)"
   ]
  },
  {
   "cell_type": "code",
   "execution_count": 79,
   "metadata": {},
   "outputs": [],
   "source": [
    "def counting_sort( a ):\n",
    "    occorrenze = {}\n",
    "    n = len(a)\n",
    "    for x in a:\n",
    "        try:\n",
    "            occorrenze[x] += 1\n",
    "        except KeyError:\n",
    "            occorrenze[x] = 1\n",
    "    i = 0\n",
    "    for x in range(n+1):\n",
    "            for _ in range(occorrenze.get(x, 0) ):\n",
    "                a[i] = x\n",
    "                i += 1\n"
   ]
  },
  {
   "cell_type": "code",
   "execution_count": 80,
   "metadata": {},
   "outputs": [],
   "source": [
    "counting_sort( a )"
   ]
  },
  {
   "cell_type": "code",
   "execution_count": 81,
   "metadata": {},
   "outputs": [
    {
     "name": "stdout",
     "output_type": "stream",
     "text": [
      "[1, 1, 2, 5, 8, 8, 8, 8, 9, 10, 10, 11, 12, 13, 13, 14, 14, 15, 15, 16, 16, 17, 17, 17, 18, 19, 21, 21, 22, 23, 25, 27, 30, 32, 34, 37, 37, 37, 38, 38, 39, 41, 42, 42, 45, 45, 45, 46, 48, 48, 51]\n"
     ]
    }
   ],
   "source": [
    "print(a)"
   ]
  },
  {
   "cell_type": "code",
   "execution_count": 73,
   "metadata": {},
   "outputs": [
    {
     "name": "stdout",
     "output_type": "stream",
     "text": [
      "0\n"
     ]
    }
   ],
   "source": [
    "print(occorrenze.get(0, 0))"
   ]
  },
  {
   "cell_type": "code",
   "execution_count": 68,
   "metadata": {},
   "outputs": [
    {
     "data": {
      "text/plain": [
       "1"
      ]
     },
     "execution_count": 68,
     "metadata": {},
     "output_type": "execute_result"
    }
   ],
   "source": [
    "occorrenze[1]"
   ]
  },
  {
   "cell_type": "code",
   "execution_count": null,
   "metadata": {},
   "outputs": [],
   "source": []
  }
 ],
 "metadata": {
  "kernelspec": {
   "display_name": "Python 3",
   "language": "python",
   "name": "python3"
  },
  "language_info": {
   "codemirror_mode": {
    "name": "ipython",
    "version": 3
   },
   "file_extension": ".py",
   "mimetype": "text/x-python",
   "name": "python",
   "nbconvert_exporter": "python",
   "pygments_lexer": "ipython3",
   "version": "3.7.4"
  }
 },
 "nbformat": 4,
 "nbformat_minor": 2
}
