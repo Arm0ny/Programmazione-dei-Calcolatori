{
 "cells": [
  {
   "cell_type": "code",
   "execution_count": 1,
   "metadata": {},
   "outputs": [],
   "source": [
    "import random as rn"
   ]
  },
  {
   "cell_type": "markdown",
   "metadata": {},
   "source": [
    "Esempi caricamanto librerie"
   ]
  },
  {
   "cell_type": "code",
   "execution_count": null,
   "metadata": {},
   "outputs": [],
   "source": [
    "import A \n",
    "A.B.f()\n",
    "\n",
    "import A.B as a\n",
    "a.f()\n",
    "\n",
    "from A.B import f\n",
    "f()"
   ]
  },
  {
   "cell_type": "markdown",
   "metadata": {},
   "source": [
    "Intero pseudo-casuale tra un intervallo "
   ]
  },
  {
   "cell_type": "code",
   "execution_count": null,
   "metadata": {},
   "outputs": [],
   "source": [
    "rn.randint(6, 7)"
   ]
  },
  {
   "cell_type": "markdown",
   "metadata": {},
   "source": [
    "# Quick sort"
   ]
  },
  {
   "cell_type": "code",
   "execution_count": 2,
   "metadata": {},
   "outputs": [],
   "source": [
    "def distribuzione( a, lx, rx):\n",
    "    pos_p = rn.randint(lx, rx-1) # scelta casuale del perno\n",
    "    a[lx], a[pos_p] = a[pos_p], a[lx] # il perno va in posizione lx\n",
    "    \n",
    "    p, pos_p = a[lx], lx\n",
    "\n",
    "    last_le = lx\n",
    "    lx += 1\n",
    "    rx -= 1\n",
    "    \n",
    "    while lx <= rx:\n",
    "        while  lx <= rx and a[lx] <= p:\n",
    "            last_le = lx\n",
    "            lx += 1\n",
    "        while lx <= rx and a[rx] > p:\n",
    "            rx -= 1\n",
    "        if lx <= rx:\n",
    "            a[lx], a[rx] = a[rx], a[lx]\n",
    "\n",
    "    a[last_le], a[pos_p] = p, a[last_le]\n",
    "    \n",
    "    return last_le"
   ]
  },
  {
   "cell_type": "code",
   "execution_count": 7,
   "metadata": {},
   "outputs": [],
   "source": [
    "def quick_sort(a, lx=0, rx=None):\n",
    "    if rx == None:\n",
    "        rx = len(a)\n",
    "    if lx < rx-1:\n",
    "        pos = distribuzione( a, lx, rx)\n",
    "        quick_sort(a, lx, pos)\n",
    "        quick_sort(a, pos+1, rx)"
   ]
  },
  {
   "cell_type": "code",
   "execution_count": 14,
   "metadata": {},
   "outputs": [],
   "source": [
    "a = [6, 1, 0, 4, 2, 9, 10, 4, 5, 5, 0, 1, 4]\n",
    "n = len(a)\n",
    "quick_sort(a)"
   ]
  },
  {
   "cell_type": "code",
   "execution_count": 15,
   "metadata": {},
   "outputs": [
    {
     "name": "stdout",
     "output_type": "stream",
     "text": [
      "[0, 0, 1, 1, 2, 4, 4, 4, 5, 5, 6, 9, 10]\n"
     ]
    }
   ],
   "source": [
    "print(a)"
   ]
  },
  {
   "cell_type": "code",
   "execution_count": 5,
   "metadata": {},
   "outputs": [],
   "source": [
    "def f(a, i=0):\n",
    "    print(a[i:])"
   ]
  },
  {
   "cell_type": "code",
   "execution_count": 6,
   "metadata": {},
   "outputs": [
    {
     "name": "stdout",
     "output_type": "stream",
     "text": [
      "[2, 3, 4]\n",
      "None\n"
     ]
    }
   ],
   "source": [
    "print(f([0,1,2,3,4],2))"
   ]
  },
  {
   "cell_type": "code",
   "execution_count": 4,
   "metadata": {},
   "outputs": [],
   "source": [
    "None"
   ]
  },
  {
   "cell_type": "markdown",
   "metadata": {},
   "source": [
    "# Esercizio"
   ]
  },
  {
   "cell_type": "markdown",
   "metadata": {},
   "source": [
    "Siano <tt>a</tt> e <tt>b</tt> sue liste ordinate in modo crescente, scrivere una funzione in Python che date <tt>a</tt> e <tt>b</tt> restituisce una lista ordinata (in  modo crescente) contenente tutti gli elementi in <tt>a</tt> e <tt>b</tt>. La funzione deve avere costo lineare in <tt>len(a)+len(b)</tt>"
   ]
  },
  {
   "cell_type": "code",
   "execution_count": null,
   "metadata": {},
   "outputs": [],
   "source": []
  }
 ],
 "metadata": {
  "kernelspec": {
   "display_name": "Python 3",
   "language": "python",
   "name": "python3"
  },
  "language_info": {
   "codemirror_mode": {
    "name": "ipython",
    "version": 3
   },
   "file_extension": ".py",
   "mimetype": "text/x-python",
   "name": "python",
   "nbconvert_exporter": "python",
   "pygments_lexer": "ipython3",
   "version": "3.6.9"
  }
 },
 "nbformat": 4,
 "nbformat_minor": 4
}
