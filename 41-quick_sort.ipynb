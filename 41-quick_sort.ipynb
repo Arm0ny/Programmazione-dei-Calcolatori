{
 "cells": [
  {
   "cell_type": "code",
   "execution_count": 86,
   "metadata": {},
   "outputs": [],
   "source": [
    "a = [6, 1, 0, 4, 2, 9, 10, 4, 5, 5, 0, 1, 4]"
   ]
  },
  {
   "cell_type": "code",
   "execution_count": 87,
   "metadata": {},
   "outputs": [],
   "source": [
    "def distribuzione( a, lx, rx):\n",
    "    p = a[lx]\n",
    "    lx += 1\n",
    "    rx -= 1\n",
    "    last_le = lx\n",
    "\n",
    "    while lx < rx:\n",
    "        while  lx < rx and a[lx] <= p:\n",
    "            last_le = lx\n",
    "            lx += 1\n",
    "        while lx < rx and a[rx] > p:\n",
    "            rx -= 1\n",
    "        a[lx], a[rx] = a[rx], a[lx]\n",
    "\n",
    "    a[last_le], a[0] = p, a[last_le]\n",
    "    \n",
    "    return last_le"
   ]
  },
  {
   "cell_type": "code",
   "execution_count": 88,
   "metadata": {},
   "outputs": [],
   "source": [
    "def quick_sort(a, lx, rx):\n",
    "    if lx < rx-1:\n",
    "        pos = distribuzione( a, lx, rx)\n",
    "        quick_sort(a, lx, pos)\n",
    "        quick_sort(a, pos+1, rx)"
   ]
  },
  {
   "cell_type": "code",
   "execution_count": 89,
   "metadata": {},
   "outputs": [],
   "source": [
    "a = [6, 1, 0]"
   ]
  },
  {
   "cell_type": "code",
   "execution_count": 90,
   "metadata": {},
   "outputs": [
    {
     "data": {
      "text/plain": [
       "1"
      ]
     },
     "execution_count": 90,
     "metadata": {},
     "output_type": "execute_result"
    }
   ],
   "source": [
    "distribuzione( a, 0, 3)"
   ]
  },
  {
   "cell_type": "code",
   "execution_count": 91,
   "metadata": {},
   "outputs": [
    {
     "data": {
      "text/plain": [
       "[1, 6, 0]"
      ]
     },
     "execution_count": 91,
     "metadata": {},
     "output_type": "execute_result"
    }
   ],
   "source": [
    "a"
   ]
  },
  {
   "cell_type": "code",
   "execution_count": 92,
   "metadata": {},
   "outputs": [],
   "source": [
    "n = len(a)\n",
    "quick_sort(a, 0, n)"
   ]
  },
  {
   "cell_type": "code",
   "execution_count": 93,
   "metadata": {},
   "outputs": [
    {
     "data": {
      "text/plain": [
       "[0, 1, 6]"
      ]
     },
     "execution_count": 93,
     "metadata": {},
     "output_type": "execute_result"
    }
   ],
   "source": [
    "a"
   ]
  },
  {
   "cell_type": "code",
   "execution_count": null,
   "metadata": {},
   "outputs": [],
   "source": []
  }
 ],
 "metadata": {
  "kernelspec": {
   "display_name": "Python 3",
   "language": "python",
   "name": "python3"
  },
  "language_info": {
   "codemirror_mode": {
    "name": "ipython",
    "version": 3
   },
   "file_extension": ".py",
   "mimetype": "text/x-python",
   "name": "python",
   "nbconvert_exporter": "python",
   "pygments_lexer": "ipython3",
   "version": "3.6.9"
  }
 },
 "nbformat": 4,
 "nbformat_minor": 4
}
