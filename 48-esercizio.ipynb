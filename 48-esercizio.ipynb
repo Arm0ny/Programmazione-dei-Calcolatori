{
 "cells": [
  {
   "cell_type": "markdown",
   "metadata": {},
   "source": [
    "# Esercizio"
   ]
  },
  {
   "cell_type": "markdown",
   "metadata": {},
   "source": [
    "Si consideri il seguente prototipo di funzione C:\n",
    "\n",
    "***\n",
    "<tt>\n",
    "    nodo **multi_find(lista a, <b>char</b> c, <b>int</b> *n);\n",
    "</tt>\n",
    "\n",
    "***\n",
    "    \n",
    "dove <tt>a</tt> è una lista concatenata contenente dati di tipo carattere (**char**). La funzione deve restituire un array di puntatori a nodo (eventualmente vuoto) di dimensione pari al numero di occorrenze del carattere <tt>c</tt> in <tt>a</tt>. Il primo elemento dell'array deve puntare al nodo di <tt>a</tt> che contiene la prima occorrenza del carattere <tt>c</tt> in <tt>a</tt>; il secondo elemento deve puntare al nodo con la seconda occorrenza di <tt>c</tt> e così via. Formalmente, se <tt>x</tt> è l'array restituito, <tt>x[i]</tt> deve puntare alla $i+1$-esima occorrenza di <tt>c</tt> in <tt>a</tt>. L'intero puntato da <tt>n</tt> conterrà la dimensione dell'array restituito.\n",
    "\n",
    "Implementare <tt>multi_find</tt>."
   ]
  },
  {
   "cell_type": "code",
   "execution_count": null,
   "metadata": {},
   "outputs": [],
   "source": []
  }
 ],
 "metadata": {
  "kernelspec": {
   "display_name": "Python 3",
   "language": "python",
   "name": "python3"
  },
  "language_info": {
   "codemirror_mode": {
    "name": "ipython",
    "version": 3
   },
   "file_extension": ".py",
   "mimetype": "text/x-python",
   "name": "python",
   "nbconvert_exporter": "python",
   "pygments_lexer": "ipython3",
   "version": "3.6.9"
  }
 },
 "nbformat": 4,
 "nbformat_minor": 4
}
