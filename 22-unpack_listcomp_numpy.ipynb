{
 "cells": [
  {
   "cell_type": "markdown",
   "metadata": {},
   "source": [
    "# zip() function"
   ]
  },
  {
   "cell_type": "code",
   "execution_count": 1,
   "metadata": {},
   "outputs": [],
   "source": [
    "x = [0,1,2,3]\n",
    "y = ['a', 'b', 'c', 'd']\n",
    "z = ['*', '+', '-', '/']"
   ]
  },
  {
   "cell_type": "code",
   "execution_count": 2,
   "metadata": {},
   "outputs": [
    {
     "name": "stdout",
     "output_type": "stream",
     "text": [
      "(0, 'a', '*')\n",
      "(1, 'b', '+')\n",
      "(2, 'c', '-')\n",
      "(3, 'd', '/')\n"
     ]
    }
   ],
   "source": [
    "for it in zip(x, y, z):\n",
    "    print(it)"
   ]
  },
  {
   "cell_type": "markdown",
   "metadata": {},
   "source": [
    "If its input are $m$ lists of size $n$, it internally creates a list of $n$ tuples of size $m$ each. The tuple $i$ contains items in position $i$ of the input lists. "
   ]
  },
  {
   "cell_type": "code",
   "execution_count": 3,
   "metadata": {},
   "outputs": [],
   "source": [
    "t = list(zip(x, y, z))"
   ]
  },
  {
   "cell_type": "code",
   "execution_count": 4,
   "metadata": {},
   "outputs": [
    {
     "name": "stdout",
     "output_type": "stream",
     "text": [
      "[(0, 'a', '*'), (1, 'b', '+'), (2, 'c', '-'), (3, 'd', '/')]\n"
     ]
    }
   ],
   "source": [
    "print(t)"
   ]
  },
  {
   "cell_type": "markdown",
   "metadata": {},
   "source": [
    "# * operator (unpacking)"
   ]
  },
  {
   "cell_type": "code",
   "execution_count": 5,
   "metadata": {},
   "outputs": [],
   "source": [
    "t = [(0, 'a', '*'), (1, 'b', '+'), (2, 'c', '-'), (3, 'd', '/')]"
   ]
  },
  {
   "cell_type": "markdown",
   "metadata": {},
   "source": [
    "If <tt>t</tt> has size $n$ ($n$ items in the sigle object <tt>t</tt>), <tt>*t</tt> unpack the items in $n$ different object. Let <tt>f</tt> be a function then\n",
    "\n",
    "<tt>f(*t)</tt> it's the same of <tt>f(t[0], t[1], ..., t[n-1])</tt>"
   ]
  },
  {
   "cell_type": "code",
   "execution_count": 6,
   "metadata": {},
   "outputs": [
    {
     "data": {
      "text/plain": [
       "[(0, 1, 2, 3), ('a', 'b', 'c', 'd'), ('*', '+', '-', '/')]"
      ]
     },
     "execution_count": 6,
     "metadata": {},
     "output_type": "execute_result"
    }
   ],
   "source": [
    "list(zip(*t))"
   ]
  },
  {
   "cell_type": "markdown",
   "metadata": {},
   "source": [
    "An example:"
   ]
  },
  {
   "cell_type": "code",
   "execution_count": 7,
   "metadata": {},
   "outputs": [],
   "source": [
    "t = [('Barcelona', 1636762),\n",
    " ('Belgrade', 1397939),\n",
    " ('Berlin', 3748148),\n",
    " ('Birmingham', 1223000),\n",
    " ('Brussels', 1211035),\n",
    " ('Bucharest', 1832883),\n",
    " ('Budapest', 1768073),\n",
    " ('Cologne', 1085664),\n",
    " ('Hamburg', 1899160),\n",
    " ('Istanbul', 15462452),\n",
    " ('Kharkiv', 1451132),\n",
    " ('Kyiv', 2950800),\n",
    " ('London ', 9126366),\n",
    " ('Madrid', 3223334),\n",
    " ('Milan', 1404239),\n",
    " ('Minsk', 1982444),\n",
    " ('Moscow', 12195221),\n",
    " ('Munich', 1471508),\n",
    " ('Nizhny Novgorod', 1259013),\n",
    " ('Odessa', 1011494),\n",
    " ('Paris', 2140526),\n",
    " ('Prague', 1324277),\n",
    " ('Rome', 2844750),\n",
    " ('Saint Petersburg', 5383890),\n",
    " ('Samara', 1170910),\n",
    " ('Sofia', 1238438),\n",
    " ('Vienna', 1921153),\n",
    " ('Voronezh', 1054537),\n",
    " ('Warsaw', 1793579)]"
   ]
  },
  {
   "cell_type": "code",
   "execution_count": 8,
   "metadata": {},
   "outputs": [
    {
     "name": "stdout",
     "output_type": "stream",
     "text": [
      "[('Barcelona', 1636762), ('Belgrade', 1397939), ('Berlin', 3748148), ('Birmingham', 1223000), ('Brussels', 1211035), ('Bucharest', 1832883), ('Budapest', 1768073), ('Cologne', 1085664), ('Hamburg', 1899160), ('Istanbul', 15462452), ('Kharkiv', 1451132), ('Kyiv', 2950800), ('London ', 9126366), ('Madrid', 3223334), ('Milan', 1404239), ('Minsk', 1982444), ('Moscow', 12195221), ('Munich', 1471508), ('Nizhny Novgorod', 1259013), ('Odessa', 1011494), ('Paris', 2140526), ('Prague', 1324277), ('Rome', 2844750), ('Saint Petersburg', 5383890), ('Samara', 1170910), ('Sofia', 1238438), ('Vienna', 1921153), ('Voronezh', 1054537), ('Warsaw', 1793579)]\n"
     ]
    }
   ],
   "source": [
    "print(t)"
   ]
  },
  {
   "cell_type": "code",
   "execution_count": 9,
   "metadata": {},
   "outputs": [],
   "source": [
    "import matplotlib.pyplot as plt"
   ]
  },
  {
   "cell_type": "code",
   "execution_count": 10,
   "metadata": {},
   "outputs": [],
   "source": [
    "x, y = list(zip(*t))"
   ]
  },
  {
   "cell_type": "markdown",
   "metadata": {},
   "source": [
    "<tt>x</tt> will contain all first items of the pairs in <tt>t</tt> (that is all the city names); <tt>y</tt> will contain all the numbers (the population)."
   ]
  },
  {
   "cell_type": "code",
   "execution_count": 11,
   "metadata": {},
   "outputs": [
    {
     "data": {
      "text/plain": [
       "<BarContainer object of 29 artists>"
      ]
     },
     "execution_count": 11,
     "metadata": {},
     "output_type": "execute_result"
    },
    {
     "data": {
      "image/png": "[encoded data removed]",
      "text/plain": [
       "<Figure size 1152x648 with 1 Axes>"
      ]
     },
     "metadata": {
      "needs_background": "light"
     },
     "output_type": "display_data"
    }
   ],
   "source": [
    "plt.figure(figsize=(16,9)) # resize the figure\n",
    "plt.xlabel('Population') # define the string in the x-axis\n",
    "plt.barh(x, y) # plot a horizontal bar diagram"
   ]
  },
  {
   "cell_type": "markdown",
   "metadata": {},
   "source": [
    "<b>Problem</b>: divide all items in <tt>y</tt> by one-million. "
   ]
  },
  {
   "cell_type": "markdown",
   "metadata": {},
   "source": [
    "Solution 1: A new list created with a <b>for</b> loop."
   ]
  },
  {
   "cell_type": "code",
   "execution_count": 12,
   "metadata": {},
   "outputs": [],
   "source": [
    "y1 = []\n",
    "for i in y:\n",
    "    y1.append(i/10**6)"
   ]
  },
  {
   "cell_type": "code",
   "execution_count": 13,
   "metadata": {},
   "outputs": [
    {
     "data": {
      "text/plain": [
       "<BarContainer object of 29 artists>"
      ]
     },
     "execution_count": 13,
     "metadata": {},
     "output_type": "execute_result"
    },
    {
     "data": {
      "image/png": "[encoded data removed]",
      "text/plain": [
       "<Figure size 1152x648 with 1 Axes>"
      ]
     },
     "metadata": {
      "needs_background": "light"
     },
     "output_type": "display_data"
    }
   ],
   "source": [
    "plt.figure(figsize=(16,9))\n",
    "plt.xlabel('Population (in millions)')\n",
    "plt.barh(x, y1)"
   ]
  },
  {
   "cell_type": "markdown",
   "metadata": {},
   "source": [
    "# List comprehension"
   ]
  },
  {
   "cell_type": "markdown",
   "metadata": {},
   "source": [
    "It is a compact mechanism to define lists."
   ]
  },
  {
   "cell_type": "markdown",
   "metadata": {},
   "source": [
    "Solution 2: the list comprehension mechanism defines the values of the list as a function of items in a sequence."
   ]
  },
  {
   "cell_type": "code",
   "execution_count": 14,
   "metadata": {},
   "outputs": [],
   "source": [
    "y1 = [ i/10**6 for i in y ]"
   ]
  },
  {
   "cell_type": "markdown",
   "metadata": {},
   "source": [
    "the items in <tt>y1</tt> are $i/10^6$ for all $i$ in the list (sequence) <tt>y</tt>."
   ]
  },
  {
   "cell_type": "code",
   "execution_count": 15,
   "metadata": {},
   "outputs": [
    {
     "data": {
      "text/plain": [
       "<BarContainer object of 29 artists>"
      ]
     },
     "execution_count": 15,
     "metadata": {},
     "output_type": "execute_result"
    },
    {
     "data": {
      "image/png": "[encoded data removed]",
      "text/plain": [
       "<Figure size 1152x648 with 1 Axes>"
      ]
     },
     "metadata": {
      "needs_background": "light"
     },
     "output_type": "display_data"
    }
   ],
   "source": [
    "plt.figure(figsize=(16,9))\n",
    "plt.xlabel('Population (in millions)')\n",
    "plt.barh(x, y1)"
   ]
  },
  {
   "cell_type": "markdown",
   "metadata": {},
   "source": [
    "# The numpy module"
   ]
  },
  {
   "cell_type": "code",
   "execution_count": 16,
   "metadata": {},
   "outputs": [],
   "source": [
    "import numpy as np"
   ]
  },
  {
   "cell_type": "markdown",
   "metadata": {},
   "source": [
    "A library for numerical computations."
   ]
  },
  {
   "cell_type": "code",
   "execution_count": 17,
   "metadata": {},
   "outputs": [],
   "source": [
    "a = np.array([1,2,3,4,5])"
   ]
  },
  {
   "cell_type": "code",
   "execution_count": 18,
   "metadata": {},
   "outputs": [
    {
     "data": {
      "text/plain": [
       "numpy.ndarray"
      ]
     },
     "execution_count": 18,
     "metadata": {},
     "output_type": "execute_result"
    }
   ],
   "source": [
    "type(a)"
   ]
  },
  {
   "cell_type": "markdown",
   "metadata": {},
   "source": [
    "It is a powerfull array data structure."
   ]
  },
  {
   "cell_type": "code",
   "execution_count": 19,
   "metadata": {},
   "outputs": [
    {
     "name": "stdout",
     "output_type": "stream",
     "text": [
      "[1 2 3 4 5]\n"
     ]
    }
   ],
   "source": [
    "print(a)"
   ]
  },
  {
   "cell_type": "markdown",
   "metadata": {},
   "source": [
    "It supports item by item operations like..."
   ]
  },
  {
   "cell_type": "code",
   "execution_count": 20,
   "metadata": {},
   "outputs": [],
   "source": [
    "b = a/2"
   ]
  },
  {
   "cell_type": "code",
   "execution_count": 21,
   "metadata": {},
   "outputs": [
    {
     "name": "stdout",
     "output_type": "stream",
     "text": [
      "[0.5 1.  1.5 2.  2.5] [1 2 3 4 5]\n"
     ]
    }
   ],
   "source": [
    "print(b, a)"
   ]
  },
  {
   "cell_type": "markdown",
   "metadata": {},
   "source": [
    "and operations between array like sum"
   ]
  },
  {
   "cell_type": "code",
   "execution_count": 22,
   "metadata": {},
   "outputs": [
    {
     "data": {
      "text/plain": [
       "array([1.5, 3. , 4.5, 6. , 7.5])"
      ]
     },
     "execution_count": 22,
     "metadata": {},
     "output_type": "execute_result"
    }
   ],
   "source": [
    "a+b"
   ]
  },
  {
   "cell_type": "code",
   "execution_count": 23,
   "metadata": {},
   "outputs": [],
   "source": [
    "c = np.array([9,2,3])"
   ]
  },
  {
   "cell_type": "code",
   "execution_count": 24,
   "metadata": {},
   "outputs": [
    {
     "ename": "ValueError",
     "evalue": "operands could not be broadcast together with shapes (5,) (3,) ",
     "output_type": "error",
     "traceback": [
      "\u001b[0;31m---------------------------------------------------------------------------\u001b[0m",
      "\u001b[0;31mValueError\u001b[0m                                Traceback (most recent call last)",
      "\u001b[0;32m<ipython-input-24-e200917bc55f>\u001b[0m in \u001b[0;36m<module>\u001b[0;34m\u001b[0m\n\u001b[0;32m----> 1\u001b[0;31m \u001b[0ma\u001b[0m\u001b[0;34m+\u001b[0m\u001b[0mc\u001b[0m\u001b[0;34m\u001b[0m\u001b[0;34m\u001b[0m\u001b[0m\n\u001b[0m",
      "\u001b[0;31mValueError\u001b[0m: operands could not be broadcast together with shapes (5,) (3,) "
     ]
    }
   ],
   "source": [
    "a+c"
   ]
  },
  {
   "cell_type": "markdown",
   "metadata": {},
   "source": [
    "in this case the arrays must have the same size."
   ]
  },
  {
   "cell_type": "code",
   "execution_count": 25,
   "metadata": {},
   "outputs": [
    {
     "data": {
      "text/plain": [
       "5"
      ]
     },
     "execution_count": 25,
     "metadata": {},
     "output_type": "execute_result"
    }
   ],
   "source": [
    "len(a)"
   ]
  },
  {
   "cell_type": "code",
   "execution_count": 26,
   "metadata": {},
   "outputs": [
    {
     "data": {
      "text/plain": [
       "(5,)"
      ]
     },
     "execution_count": 26,
     "metadata": {},
     "output_type": "execute_result"
    }
   ],
   "source": [
    "a.shape"
   ]
  },
  {
   "cell_type": "markdown",
   "metadata": {},
   "source": [
    "The shape statement return the size of the dimensions of the array (they can be multidimensional arrays)."
   ]
  },
  {
   "cell_type": "code",
   "execution_count": 27,
   "metadata": {},
   "outputs": [
    {
     "data": {
      "text/plain": [
       "array(['0', 'a'], dtype='<U21')"
      ]
     },
     "execution_count": 27,
     "metadata": {},
     "output_type": "execute_result"
    }
   ],
   "source": [
    "np.array([0,'a'])"
   ]
  },
  {
   "cell_type": "markdown",
   "metadata": {},
   "source": [
    "The array is homogeneous that is its items are of the same type."
   ]
  },
  {
   "cell_type": "markdown",
   "metadata": {},
   "source": [
    "Coming back to our example..."
   ]
  },
  {
   "cell_type": "code",
   "execution_count": 28,
   "metadata": {},
   "outputs": [],
   "source": [
    "t = [('Barcelona', 1636762),\n",
    " ('Belgrade', 1397939),\n",
    " ('Berlin', 3748148),\n",
    " ('Birmingham', 1223000),\n",
    " ('Brussels', 1211035),\n",
    " ('Bucharest', 1832883),\n",
    " ('Budapest', 1768073),\n",
    " ('Cologne', 1085664),\n",
    " ('Hamburg', 1899160),\n",
    " ('Istanbul', 15462452),\n",
    " ('Kharkiv', 1451132),\n",
    " ('Kyiv', 2950800),\n",
    " ('London ', 9126366),\n",
    " ('Madrid', 3223334),\n",
    " ('Milan', 1404239),\n",
    " ('Minsk', 1982444),\n",
    " ('Moscow', 12195221),\n",
    " ('Munich', 1471508),\n",
    " ('Nizhny Novgorod', 1259013),\n",
    " ('Odessa', 1011494),\n",
    " ('Paris', 2140526),\n",
    " ('Prague', 1324277),\n",
    " ('Rome', 2844750),\n",
    " ('Saint Petersburg', 5383890),\n",
    " ('Samara', 1170910),\n",
    " ('Sofia', 1238438),\n",
    " ('Vienna', 1921153),\n",
    " ('Voronezh', 1054537),\n",
    " ('Warsaw', 1793579)]"
   ]
  },
  {
   "cell_type": "markdown",
   "metadata": {},
   "source": [
    "In the second parameter of <tt>barh()</tt> we can use the result of array operations. This makes the code extremely compact!"
   ]
  },
  {
   "cell_type": "code",
   "execution_count": 29,
   "metadata": {},
   "outputs": [
    {
     "data": {
      "text/plain": [
       "<BarContainer object of 29 artists>"
      ]
     },
     "execution_count": 29,
     "metadata": {},
     "output_type": "execute_result"
    },
    {
     "data": {
      "image/png": "[encoded data removed]",
      "text/plain": [
       "<Figure size 1152x648 with 1 Axes>"
      ]
     },
     "metadata": {
      "needs_background": "light"
     },
     "output_type": "display_data"
    }
   ],
   "source": [
    "x, y = list(zip(*t))\n",
    "plt.figure(figsize=(16,9))\n",
    "plt.xlabel('Population (in millions)')\n",
    "plt.barh(x, np.array(y)/10**6 )"
   ]
  },
  {
   "cell_type": "markdown",
   "metadata": {},
   "source": [
    "# Exercise"
   ]
  },
  {
   "cell_type": "markdown",
   "metadata": {},
   "source": [
    "Write a program that, given a text file, creates a dictionary of the number of occurrences of all the words in the text file. Notice that a word is a sequence of alphabetic characters (letters) where the cases be ignored (strings <i>Python</i> and <i>python</i> correnspond to the same word <i>python</i>)."
   ]
  },
  {
   "cell_type": "markdown",
   "metadata": {},
   "source": [
    "Hints and observations:"
   ]
  },
  {
   "cell_type": "code",
   "execution_count": 30,
   "metadata": {},
   "outputs": [],
   "source": [
    "t = 'an introduction      to programming (python)'"
   ]
  },
  {
   "cell_type": "code",
   "execution_count": 31,
   "metadata": {},
   "outputs": [
    {
     "data": {
      "text/plain": [
       "['an', 'introduction', 'to', 'programming', '(python)']"
      ]
     },
     "execution_count": 31,
     "metadata": {},
     "output_type": "execute_result"
    }
   ],
   "source": [
    "t.split()"
   ]
  },
  {
   "cell_type": "markdown",
   "metadata": {},
   "source": [
    "The <tt>split()</tt> method returns a list of strings by splitting the original in correspondence of blank symbols (space, tabs, new lines...)."
   ]
  },
  {
   "cell_type": "code",
   "execution_count": 32,
   "metadata": {},
   "outputs": [],
   "source": [
    "t = 'one one. \"one\" ,one...'"
   ]
  },
  {
   "cell_type": "code",
   "execution_count": 33,
   "metadata": {},
   "outputs": [
    {
     "data": {
      "text/plain": [
       "['one', 'one.', '\"one\"', ',one...']"
      ]
     },
     "execution_count": 33,
     "metadata": {},
     "output_type": "execute_result"
    }
   ],
   "source": [
    "t.split()"
   ]
  },
  {
   "cell_type": "markdown",
   "metadata": {},
   "source": [
    "Observe that <tt>t</tt> contains strings that cannot be considered words: for example <i>,one...</i> is not a word! The solution must be able to extract the word <i>one</i> from the string <i>,one...</i>."
   ]
  },
  {
   "cell_type": "code",
   "execution_count": null,
   "metadata": {},
   "outputs": [],
   "source": []
  }
 ],
 "metadata": {
  "kernelspec": {
   "display_name": "Python 3",
   "language": "python",
   "name": "python3"
  },
  "language_info": {
   "codemirror_mode": {
    "name": "ipython",
    "version": 3
   },
   "file_extension": ".py",
   "mimetype": "text/x-python",
   "name": "python",
   "nbconvert_exporter": "python",
   "pygments_lexer": "ipython3",
   "version": "3.6.9"
  }
 },
 "nbformat": 4,
 "nbformat_minor": 2
}
